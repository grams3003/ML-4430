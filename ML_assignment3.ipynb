{
  "nbformat": 4,
  "nbformat_minor": 0,
  "metadata": {
    "colab": {
      "provenance": [],
      "authorship_tag": "ABX9TyNbYGDpsK9UNV4jfNTy44ez",
      "include_colab_link": true
    },
    "kernelspec": {
      "name": "python3",
      "display_name": "Python 3"
    },
    "language_info": {
      "name": "python"
    }
  },
  "cells": [
    {
      "cell_type": "markdown",
      "metadata": {
        "id": "view-in-github",
        "colab_type": "text"
      },
      "source": [
        "<a href=\"https://colab.research.google.com/github/grams3003/ML-4430/blob/main/ML_assignment3.ipynb\" target=\"_parent\"><img src=\"https://colab.research.google.com/assets/colab-badge.svg\" alt=\"Open In Colab\"/></a>"
      ]
    },
    {
      "cell_type": "code",
      "source": [
        "import matplotlib.pyplot as plt\n",
        "import matplotlib.image as mpimg\n",
        "from torchvision import datasets, transforms\n",
        "from torch.utils.data import DataLoader\n",
        "import torch.nn as nn\n",
        "import torch.nn.functional as F\n",
        "import torch.optim as optim\n",
        "import torch\n",
        "import numpy as np\n",
        "import os"
      ],
      "metadata": {
        "id": "843c8FlElyZd"
      },
      "execution_count": 1,
      "outputs": []
    },
    {
      "cell_type": "code",
      "source": [
        "from google.colab import drive\n",
        "drive.mount('/content/drive/')"
      ],
      "metadata": {
        "colab": {
          "base_uri": "https://localhost:8080/"
        },
        "id": "JFIXPh2V_qUA",
        "outputId": "706758e7-86a0-4838-f3da-171fd4189b6b"
      },
      "execution_count": 3,
      "outputs": [
        {
          "output_type": "stream",
          "name": "stdout",
          "text": [
            "Mounted at /content/drive/\n"
          ]
        }
      ]
    },
    {
      "cell_type": "code",
      "source": [
        "%cd 'drive/MyDrive/ML/assignment3/'"
      ],
      "metadata": {
        "colab": {
          "base_uri": "https://localhost:8080/"
        },
        "id": "JsPTpAtB_rFf",
        "outputId": "4e33c11f-0757-41ab-ccc1-c9717090896c"
      },
      "execution_count": 4,
      "outputs": [
        {
          "output_type": "stream",
          "name": "stdout",
          "text": [
            "/content/drive/MyDrive/ML/assignment3\n"
          ]
        }
      ]
    },
    {
      "cell_type": "code",
      "source": [
        "BATCH_SIZE = 32\n",
        "transform = transforms.Compose([transforms.Resize((28,28)), transforms.Grayscale(), transforms.ToTensor()])\n",
        "#transform = transforms.Compose([transforms.ToTensor()])"
      ],
      "metadata": {
        "id": "jxs_rd2Ll1hj"
      },
      "execution_count": 5,
      "outputs": []
    },
    {
      "cell_type": "code",
      "source": [
        "data = datasets.ImageFolder('data', transform = transform)\n",
        "trainload = torch.utils.data.DataLoader(data, batch_size= BATCH_SIZE)"
      ],
      "metadata": {
        "id": "vXkZ8Uj8mGRT"
      },
      "execution_count": 6,
      "outputs": []
    },
    {
      "cell_type": "code",
      "source": [
        "dataiter = iter(trainload)\n",
        "images, labels = next(dataiter)\n",
        "images[0].shape\n"
      ],
      "metadata": {
        "colab": {
          "base_uri": "https://localhost:8080/"
        },
        "id": "PlijgixSDU9F",
        "outputId": "840f3bf0-8374-4da9-e9ce-7152a4327a9c"
      },
      "execution_count": 7,
      "outputs": [
        {
          "output_type": "execute_result",
          "data": {
            "text/plain": [
              "torch.Size([1, 28, 28])"
            ]
          },
          "metadata": {},
          "execution_count": 7
        }
      ]
    },
    {
      "cell_type": "code",
      "source": [
        "plt.imshow(images[5].permute(1,2,0), cmap='gray')"
      ],
      "metadata": {
        "colab": {
          "base_uri": "https://localhost:8080/",
          "height": 447
        },
        "id": "N5CB_D4pDVr7",
        "outputId": "3a38168a-7c19-4200-9c3a-1748303e1b06"
      },
      "execution_count": 8,
      "outputs": [
        {
          "output_type": "execute_result",
          "data": {
            "text/plain": [
              "<matplotlib.image.AxesImage at 0x7f5809a55d30>"
            ]
          },
          "metadata": {},
          "execution_count": 8
        },
        {
          "output_type": "display_data",
          "data": {
            "text/plain": [
              "<Figure size 640x480 with 1 Axes>"
            ],
            "image/png": "[encoded data removed]"
          },
          "metadata": {}
        }
      ]
    },
    {
      "cell_type": "code",
      "source": [
        "latent_dims = 10\n",
        "num_epochs = 50\n",
        "capacity = 32\n",
        "learning_rate = 1e-3\n",
        "use_gpu = True"
      ],
      "metadata": {
        "id": "g-kbWI7nDcLH"
      },
      "execution_count": 10,
      "outputs": []
    },
    {
      "cell_type": "code",
      "source": [
        "class Encoder(nn.Module):\n",
        "    def __init__(self):\n",
        "        super(Encoder, self).__init__()\n",
        "        c = capacity\n",
        "        self.conv1 = nn.Conv2d(in_channels=1, out_channels=c, kernel_size=4, stride=2, padding=1)\n",
        "        self.conv2 = nn.Conv2d(in_channels=c, out_channels=2*c, kernel_size=4,stride=2, padding=1)\n",
        "        self.fc = nn.Linear(in_features=2*c*7*7, out_features=latent_dims)\n",
        "    \n",
        "    def forward(self, x):\n",
        "        x = F.relu(self.conv1(x))\n",
        "        x = F.relu(self.conv2(x))\n",
        "        x = x.view(x.size(0), -1)\n",
        "        x = self.fc(x)\n",
        "        return x"
      ],
      "metadata": {
        "id": "mByfZraODhyA"
      },
      "execution_count": 11,
      "outputs": []
    },
    {
      "cell_type": "code",
      "source": [
        "class Decoder(nn.Module):\n",
        "    def __init__(self):\n",
        "        super(Decoder, self).__init__()\n",
        "        c = capacity\n",
        "        self.fc = nn.Linear(in_features=latent_dims, out_features=2*c*7*7)\n",
        "        self.conv2 = nn.ConvTranspose2d(in_channels=2*c, out_channels=c, kernel_size=4, stride=2, padding=1)\n",
        "        # self.conv1 = nn.ConvTranspose2d(in_channels=c, out_channels=c//2, kernel_size=4, stride=2, padding=1)\n",
        "        # self.conv0 = nn.ConvTranspose2d(in_channels=c, out_channels=1, kernel_size=4, stride=2, padding=1)\n",
        "        self.conv1 = nn.ConvTranspose2d(in_channels=c, out_channels=1, kernel_size=4, stride=2, padding=1)\n",
        "        \n",
        "    def forward(self, x):\n",
        "        x = self.fc(x)\n",
        "        x = x.view(x.size(0), capacity*2,7,7)\n",
        "        x = F.relu(self.conv2(x))\n",
        "        # x = F.relu(self.conv1(x))\n",
        "        # x = torch.tanh(self.conv0(x))\n",
        "        x = torch.tanh(self.conv1(x))\n",
        "        return x\n",
        "        "
      ],
      "metadata": {
        "id": "ABGEAK2CDj-G"
      },
      "execution_count": 12,
      "outputs": []
    },
    {
      "cell_type": "code",
      "source": [
        "class Autoencoder(nn.Module):\n",
        "    def __init__(self):\n",
        "        super(Autoencoder, self).__init__()\n",
        "        self.encoder = Encoder()\n",
        "        self.decoder = Decoder()\n",
        "        \n",
        "    def forward(self, x):\n",
        "        latent = self.encoder(x)\n",
        "        x_recon = self.decoder(latent)\n",
        "        return x_recon"
      ],
      "metadata": {
        "id": "4gV4aCBZDmcI"
      },
      "execution_count": 13,
      "outputs": []
    },
    {
      "cell_type": "code",
      "source": [
        "autoencoder = Autoencoder()\n",
        "\n",
        "device = torch.device('cuda:0' if use_gpu and torch.cuda.is_available() else 'cpu')\n",
        "autoencoder = autoencoder.to(device)\n",
        "\n",
        "num_params = sum(p.numel() for p in autoencoder.parameters() if p.requires_grad)\n",
        "print('Number of parameters: %d' % num_params)"
      ],
      "metadata": {
        "colab": {
          "base_uri": "https://localhost:8080/"
        },
        "id": "BHU_dVoTDpf1",
        "outputId": "e92a85d3-e86d-4d5e-a153-95f74b7ff205"
      },
      "execution_count": 14,
      "outputs": [
        {
          "output_type": "stream",
          "name": "stdout",
          "text": [
            "Number of parameters: 132555\n"
          ]
        }
      ]
    },
    {
      "cell_type": "code",
      "source": [
        "optimizer = torch.optim.Adam(params=autoencoder.parameters(), lr=learning_rate, weight_decay=1e-5)\n",
        "\n",
        "autoencoder.train()\n",
        "\n",
        "train_loss_avg = []\n",
        "\n",
        "print('Training ...')\n",
        "for epoch in range(num_epochs):\n",
        "    train_loss_avg.append(0)\n",
        "    num_batches = 0\n",
        "    \n",
        "    for image_batch, _ in trainload:\n",
        "        image_batch = image_batch.to(device)\n",
        "        \n",
        "        image_batch_recon = autoencoder(image_batch)\n",
        "        \n",
        "        loss = F.mse_loss(image_batch_recon, image_batch)\n",
        "        \n",
        "        optimizer.zero_grad()\n",
        "        loss.backward()\n",
        "        \n",
        "        optimizer.step()\n",
        "        \n",
        "        train_loss_avg[-1] += loss.item()\n",
        "        num_batches += 1\n",
        "    \n",
        "    train_loss_avg[-1] /= num_batches\n",
        "    # print('Epoch [%d / %d] average reconstruction error: %f' % epoch+1, num_epochs, train_loss_avg[-1])\n",
        "    print('Epoch [{} / {}] average reconstruction error: {}'.format(epoch+1, num_epochs, train_loss_avg[-1]))"
      ],
      "metadata": {
        "id": "38gxwa31Dr2L"
      },
      "execution_count": null,
      "outputs": []
    },
    {
      "cell_type": "code",
      "source": [
        "autoencoder.eval()\n",
        "\n",
        "test_loss_avg, num_batches = 0, 0\n",
        "for image_batch, _ in trainload:\n",
        "    \n",
        "    with torch.no_grad():\n",
        "        image_batch = image_batch.to(device)\n",
        "        \n",
        "        image_batch_recon = autoencoder(image_batch)\n",
        "        \n",
        "        loss = F.mse_loss(image_batch_recon, image_batch)\n",
        "        \n",
        "        test_loss_avg += loss.item()\n",
        "        num_batches += 1\n",
        "\n",
        "test_loss_avg /= num_batches\n",
        "print('average reconstruction error: {}'.format(test_loss_avg))"
      ],
      "metadata": {
        "id": "tHFBiA3nDu0O"
      },
      "execution_count": null,
      "outputs": []
    },
    {
      "cell_type": "code",
      "source": [
        "plt.ion()\n",
        "\n",
        "autoencoder.eval()\n",
        "\n",
        "def to_img(x):\n",
        "    x = .5 * (x+1)\n",
        "    x = x.clamp(0,1)\n",
        "    return x\n",
        "\n",
        "def show_image(img):\n",
        "    img = to_img(img)\n",
        "    npimg = img.numpy()\n",
        "    plt.imshow(np.transpose(npimg, (1,2,0)))\n",
        "\n",
        "def visualize_output(images, model):\n",
        "    with torch.no_grad():\n",
        "        \n",
        "        images = images.to(device)\n",
        "        images = model(images)\n",
        "        images = images.cpu()\n",
        "        images = to_img(images)\n",
        "        np_imagegrid = torchvision.utils.make_grid(images[1:4], 2,3).numpy()\n",
        "        plt.imshow(np.transpose(np_imagegrid, (1,2,0)))\n",
        "        plt.show()\n",
        "\n",
        "dataiter = iter(trainload)\n",
        "images, labels = next(dataiter)\n",
        "\n",
        "print('Original images')\n",
        "show_image(torchvision.utils.make_grid(images[1:4],2,3))\n",
        "plt.show()\n",
        "\n",
        "print('Autoencoder reconstruction:')\n",
        "visualize_output(images, autoencoder)"
      ],
      "metadata": {
        "id": "YOoZL-X_Dybm"
      },
      "execution_count": null,
      "outputs": []
    }
  ]
}