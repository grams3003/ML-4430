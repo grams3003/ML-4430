{
  "nbformat": 4,
  "nbformat_minor": 0,
  "metadata": {
    "colab": {
      "provenance": [],
      "mount_file_id": "1Sil3mAax0fq9YvTLr2I_IBNuy-VqO9-b",
      "authorship_tag": "ABX9TyPQ1VMzwErE/6Kn0EXelwMk",
      "include_colab_link": true
    },
    "kernelspec": {
      "name": "python3",
      "display_name": "Python 3"
    },
    "language_info": {
      "name": "python"
    }
  },
  "cells": [
    {
      "cell_type": "markdown",
      "metadata": {
        "id": "view-in-github",
        "colab_type": "text"
      },
      "source": [
        "<a href=\"https://colab.research.google.com/github/grams3003/ML-4430/blob/main/ML_Assignment1.ipynb\" target=\"_parent\"><img src=\"https://colab.research.google.com/assets/colab-badge.svg\" alt=\"Open In Colab\"/></a>"
      ]
    },
    {
      "cell_type": "code",
      "source": [
        "from google.colab import drive\n",
        "drive.mount('/content/drive')"
      ],
      "metadata": {
        "colab": {
          "base_uri": "https://localhost:8080/"
        },
        "id": "BPbnPb3nmSWa",
        "outputId": "a5f217a7-c1ce-4c86-df2c-acc3dff247ec"
      },
      "execution_count": null,
      "outputs": [
        {
          "output_type": "stream",
          "name": "stdout",
          "text": [
            "Drive already mounted at /content/drive; to attempt to forcibly remount, call drive.mount(\"/content/drive\", force_remount=True).\n"
          ]
        }
      ]
    },
    {
      "cell_type": "code",
      "execution_count": null,
      "metadata": {
        "id": "LWYO-2nplnBy",
        "colab": {
          "base_uri": "https://localhost:8080/",
          "height": 451
        },
        "outputId": "9855f64f-0c0f-4037-ae51-11ed249319fe"
      },
      "outputs": [
        {
          "output_type": "stream",
          "name": "stdout",
          "text": [
            "knn score:\n",
            "[0 0 0 ... 0 2 0]\n",
            "0.7125901791947871\n",
            "svn score:\n",
            "[0 0 0 ... 0 2 0]\n",
            "0.7093320921573191\n",
            "mlp score:\n",
            "[0 0 0 ... 0 2 0]\n",
            "0.7042122410984408\n"
          ]
        },
        {
          "output_type": "display_data",
          "data": {
            "text/plain": [
              "<Figure size 432x288 with 1 Axes>"
            ],
            "image/png": "[encoded data removed]"
          },
          "metadata": {
            "needs_background": "light"
          }
        }
      ],
      "source": [
        "import sklearn\n",
        "from sklearn.neighbors import KNeighborsClassifier\n",
        "from sklearn import svm\n",
        "from sklearn.neural_network import MLPClassifier\n",
        "from sklearn.model_selection import train_test_split\n",
        "from sklearn.svm import SVC\n",
        "import numpy as np\n",
        "import matplotlib.pyplot as plt\n",
        "\n",
        "#open the txt files\n",
        "german_file = open('german.txt')\n",
        "english_file = open('english.txt')\n",
        "french_file = open('french.txt')\n",
        "\n",
        "#read the files\n",
        "german_lines = german_file.readlines()\n",
        "english_lines = english_file.readlines()\n",
        "french_lines = french_file.readlines()\n",
        "\n",
        "#create testing and training data\n",
        "training = []\n",
        "target = []\n",
        "\n",
        "for word in english_lines:\n",
        "    cleaned_word = word.replace('\\n', '')\n",
        "    if len(cleaned_word) == 5:\n",
        "        string_to_ord = []\n",
        "        for char in cleaned_word:\n",
        "            string_to_ord.append(ord(char))     \n",
        "        training.append(string_to_ord) \n",
        "        target.append(0)\n",
        "        \n",
        "for word in german_lines:\n",
        "    cleaned_word = word.replace('\\n', '')\n",
        "    if len(cleaned_word) == 5:\n",
        "        string_to_ord = []   \n",
        "        for char in cleaned_word:\n",
        "            string_to_ord.append(ord(char))       \n",
        "        training.append(string_to_ord)   \n",
        "        target.append(1)\n",
        "        \n",
        "for word in french_lines:\n",
        "    cleaned_word = word.replace('\\n', '')\n",
        "    if len(cleaned_word) == 5:\n",
        "        string_to_ord = []     \n",
        "        for char in cleaned_word:\n",
        "            string_to_ord.append(ord(char))    \n",
        "        training.append(string_to_ord)   \n",
        "        target.append(2)\n",
        " \n",
        "\n",
        "#split the data to fit the models\n",
        "\n",
        "X = training\n",
        "y = target\n",
        "X_train, X_test, y_train, y_test = train_test_split(X, y, test_size = .2)\n",
        "\n",
        "#knn model\n",
        "knn = KNeighborsClassifier(n_neighbors = 21)\n",
        "knn.fit(X_train, y_train)\n",
        "print('knn score:')\n",
        "print(knn.predict(X_test))\n",
        "knn_score = knn.score(X_test, y_test)\n",
        "print(knn_score)\n",
        "\n",
        "#svm model\n",
        "svm = svm.SVC()\n",
        "svm.fit(X_train, y_train)\n",
        "print('svn score:')\n",
        "print(svm.predict(X_test))\n",
        "svm_score = svm.score(X_test, y_test)\n",
        "print(svm_score)\n",
        "\n",
        "#mlp model\n",
        "mlp = MLPClassifier()\n",
        "mlp.fit(X_train, y_train)\n",
        "print('mlp score:')\n",
        "print(mlp.predict(X_test))\n",
        "mlp_score = mlp.score(X_test, y_test)\n",
        "print(mlp_score)\n",
        "\n",
        "#plot accuracy\n",
        "labels = ['KNN', 'SVM', 'MLP']\n",
        "plt.title('Model Accuracy')\n",
        "plt.xlabel('Accuracy %')\n",
        "value = [knn_score * 100, svm_score * 100, mlp_score * 100]\n",
        "y_pos = np.arange(len(labels))\n",
        "plt.barh(y_pos, value, align = 'center', alpha = .5)\n",
        "plt.yticks(y_pos, labels)\n",
        "plt.xticks([0, 10, 20, 30, 40, 50, 60, 70, 80, 90, 100])\n",
        "plt.savefig('accuracy.png')\n",
        "plt.show()"
      ]
    }
  ]
}